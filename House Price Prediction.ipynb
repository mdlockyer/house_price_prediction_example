{
 "cells": [
  {
   "cell_type": "markdown",
   "metadata": {
    "slideshow": {
     "slide_type": "slide"
    }
   },
   "source": [
    "# Toy house price prediction example.\n",
    "\n",
    "### This notebook contains the code to train a neural network to predict the price of a house based on its condition (condition is a 1-10 rating). This is soley to demonstrate how a neural network can approximate a non-linear function; the results are not going to be useful or even impressive in any real use case."
   ]
  },
  {
   "cell_type": "markdown",
   "metadata": {},
   "source": [
    "## Import libraries"
   ]
  },
  {
   "cell_type": "code",
   "execution_count": 3,
   "metadata": {},
   "outputs": [],
   "source": [
    "from csv import reader\n",
    "import numpy as np\n",
    "import torch\n",
    "from random import shuffle\n",
    "from PIL import Image\n",
    "import matplotlib.pyplot as plt\n",
    "from IPython import display"
   ]
  },
  {
   "cell_type": "markdown",
   "metadata": {},
   "source": [
    "## Configure MatPlotLib\n",
    "\n",
    "**We'll be using MatPlotLib to plot our dataset and training results. Here we'll do some basic setup**"
   ]
  },
  {
   "cell_type": "code",
   "execution_count": 2,
   "metadata": {},
   "outputs": [],
   "source": [
    "# Makes the MPL graphs display in the notebook properly\n",
    "%matplotlib inline\n",
    "plt.rcParams[\"axes.grid\"] = False  # Turn off gridlines on the graphs\n",
    "plt.rcParams['figure.figsize'] = [15, 10]  # Sets the default size of the graphs to be more reasonable"
   ]
  },
  {
   "cell_type": "markdown",
   "metadata": {},
   "source": [
    "## Load our dataset\n",
    "\n",
    "**We have a CSV file in the local directory containing the training data we will be using for this example. The data contains two columns; the first is the quality of the home, and the second is the sale price. The CSV also has a header for the first row, so we will `pop()` that off.**"
   ]
  },
  {
   "cell_type": "code",
   "execution_count": 3,
   "metadata": {},
   "outputs": [
    {
     "data": {
      "text/plain": [
       "<matplotlib.collections.PathCollection at 0x7f969c6b3f10>"
      ]
     },
     "execution_count": 3,
     "metadata": {},
     "output_type": "execute_result"
    },
    {
     "data": {
      "image/png": "[encoded data removed]",
      "text/plain": [
       "<Figure size 1080x720 with 1 Axes>"
      ]
     },
     "metadata": {
      "needs_background": "light"
     },
     "output_type": "display_data"
    }
   ],
   "source": [
    "with open('./nn.svg', 'r') as file:\n",
    "    svg_string = file.read()\n",
    "\n",
    "with open('dataset.csv') as file:\n",
    "    data = list(reader(file))\n",
    "data.pop(0)  # Remove header\n",
    "data = [[int(x[0]), int(x[1])] for x in data]  # Convert the string data into integers\n",
    "\n",
    "# Go ahead and randomly shuffle the date.  This is \n",
    "# important for ML training. Ideally, we would also\n",
    "# shuffle the data every epoch during training, but\n",
    "# for this example we will just shuffle once.\n",
    "shuffle(data)\n",
    "\n",
    "train_data = np.array(data)\n",
    "train_x = train_data[:, 0].astype(np.float32)\n",
    "train_y = train_data[:, 1].astype(np.float32)\n",
    "train_x_max = train_x.max()\n",
    "train_y_max = train_y.max()\n",
    "\n",
    "fig = plt.figure()\n",
    "ax = plt.axes()\n",
    "ax.set_ylabel('Price', fontsize=18)\n",
    "ax.set_xlabel('Condition', fontsize=18)\n",
    "ax.set_title('Dataset', fontsize=22)\n",
    "ax.scatter(train_x, train_y)"
   ]
  },
  {
   "cell_type": "markdown",
   "metadata": {},
   "source": [
    "## Define some pre/post processing functions for our data. These are going to be used a lot during training, so we will break them out into reusable functions."
   ]
  },
  {
   "cell_type": "code",
   "execution_count": 4,
   "metadata": {},
   "outputs": [],
   "source": [
    "def pre_process_input(value, range_max):\n",
    "    # Wrap our x value in a torch.Tensor and cast it to a\n",
    "    # 32 bit float. The model's parameters are float32, and\n",
    "    # we need to match our input datatype to the model's.\n",
    "    if isinstance(value, np.ndarray):\n",
    "        tensor = torch.from_numpy(value, dtype=torch.float32)\n",
    "    else:\n",
    "        tensor = torch.tensor(value, dtype=torch.float32)\n",
    "    # Scale our x value into a 0:1 range, then normalize\n",
    "    # with a mean and standard deviation of 0.5. This will\n",
    "    # put the value into a -1:1 range which is a nice input\n",
    "    # for our neural net.\n",
    "    tensor = ((tensor / range_max) - 0.5) / 0.5\n",
    "    # When training neural networks, it is very common\n",
    "    # to run multiple training examples through the network\n",
    "    # together and do a single update to our network based\n",
    "    # on the average gradients across the \"mini-batch\". For\n",
    "    # this example, we won't use a batch, but the model expects\n",
    "    # the input to have an extra batch dimension, so we will\n",
    "    # add a fake one with unsqueeze_()\n",
    "    tensor.unsqueeze_(0)\n",
    "    return tensor\n",
    "\n",
    "    \n",
    "def post_process_prediction(prediction, range_max):\n",
    "    prediction.squeeze_(0)  # Remove the fake \"batch\" dimension\n",
    "    # Denormalize the prediction and scale it back into the original range\n",
    "    prediction = ((prediction + 1) / 2.0) * range_max\n",
    "    # The prediction is a torch.Tensor currenty, and we want to grab the\n",
    "    # singe sale price value from that tensor as a float, then cast it to\n",
    "    # an integer. We can get the float value of the tensor using the item()\n",
    "    # method.\n",
    "    prediction_int = int(prediction.item())\n",
    "    return prediction_int"
   ]
  },
  {
   "cell_type": "markdown",
   "metadata": {},
   "source": [
    "## Construct our neural network\n",
    "\n",
    "**Funny enough, this is going to be the easiest step in this process. The network we are going to use is extremely simple. It's a multilayer perceptron with one input node, one output node, and a hidden layer with 10 units. In total our model has 31 trainable parameters. We use a *Rectified Linear Unit* (ReLU) activation function which is literally just a high-pass filter. If a value is above 0, it is passed throught the function untouched. If the value is below zero, it is simply set to 0.**\n",
    "\n",
    "**In the code below, you can see how ML libraries like PyTorch leverage the concept of layers. We create our first set of weights using the `Linear` class, which in our case defines 1 input node fully connected to 10 output nodes. We then flow those 10 outputs through our ReLU activation function. After activation, we followed with another `Linear` layer which maps our 10 nodes down to our single output node for our network. In this way we can define a model that looks like this:**\n",
    "\n",
    "![nn_graph](./nn_small.png)"
   ]
  },
  {
   "cell_type": "code",
   "execution_count": 5,
   "metadata": {},
   "outputs": [],
   "source": [
    "class Model(torch.nn.Module):\n",
    "    def __init__(self):\n",
    "        super().__init__()\n",
    "        \n",
    "        \"\"\"\n",
    "        This is where we will actually create the components for our network.\n",
    "        PyTorch generally follows a design pattern of \"create the parts\" (that's here)\n",
    "        then \"define how the data flows through those parts\" (the forward method below).\n",
    "        \"\"\"\n",
    "        \n",
    "        self.layer_1: torch.nn.Module = torch.nn.Linear(1, 10)\n",
    "        self.activation = torch.nn.ReLU()\n",
    "        self.layer_2 = torch.nn.Linear(10, 1)\n",
    "                \n",
    "    def forward(self, x):\n",
    "        \n",
    "        \"\"\"\n",
    "        When using PyTorch, the `forward` method is implemented to\n",
    "        define the data flow of the network. In the case of this net,\n",
    "        we are just going to flow sequentially through the layers defined\n",
    "        in the constructor above.\n",
    "        \"\"\"\n",
    "        \n",
    "        x = self.layer_1(x)\n",
    "        x = self.activation(x)\n",
    "        x = self.layer_2(x)\n",
    "        return x\n",
    "    \n",
    "model = Model()"
   ]
  },
  {
   "cell_type": "markdown",
   "metadata": {},
   "source": [
    "## Construct our optimizer\n",
    "\n",
    "**Our optimizer is the thing that is actually going to \"turn the knobs\" inside our network. In the training loop below, we will calculate the loss for a training sample. Once we have the loss, we will back propagate that loss to get a gradient for each parameter. The gradients represent \"in what direction should this parameter move to reduce the loss? And how much should it move?\"**\n",
    "\n",
    "**The optimizer will look at the gradients and tweak each model parameter accordingly. We have a learning rate parameter for the optimizer that can scale the magnitude of the weight change as well. If the learning rate is too high, the weight updates will be huge and the model won't actually learn. If it's too low, the model will learn too slowly and could get stuck in a local minimum. This isn't a huge concern for this simple example, and we'll just pick a nice middle-ground value**"
   ]
  },
  {
   "cell_type": "code",
   "execution_count": 6,
   "metadata": {},
   "outputs": [],
   "source": [
    "optimizer = torch.optim.SGD(model.parameters(), lr=0.0001, momentum=0.7)"
   ]
  },
  {
   "cell_type": "markdown",
   "metadata": {},
   "source": [
    "## Train the model\n",
    "\n",
    "**Now it's time to train our neural network. In ML, when you have trained the model on all the samples in the dataset, you have completed an *epoch*. Our model will train for 200 epochs, or 200 passes through the dataset.**"
   ]
  },
  {
   "cell_type": "code",
   "execution_count": 7,
   "metadata": {
    "scrolled": false
   },
   "outputs": [
    {
     "ename": "KeyboardInterrupt",
     "evalue": "",
     "output_type": "error",
     "traceback": [
      "\u001b[0;31m---------------------------------------------------------------------------\u001b[0m",
      "\u001b[0;31mKeyboardInterrupt\u001b[0m                         Traceback (most recent call last)",
      "\u001b[0;32m<ipython-input-7-5c9c09af326c>\u001b[0m in \u001b[0;36m<module>\u001b[0;34m\u001b[0m\n\u001b[1;32m     14\u001b[0m         \u001b[0;31m# Prepare our training sample\u001b[0m\u001b[0;34m\u001b[0m\u001b[0;34m\u001b[0m\u001b[0;34m\u001b[0m\u001b[0m\n\u001b[1;32m     15\u001b[0m         \u001b[0mx_tensor\u001b[0m \u001b[0;34m=\u001b[0m \u001b[0mpre_process_input\u001b[0m\u001b[0;34m(\u001b[0m\u001b[0mx\u001b[0m\u001b[0;34m,\u001b[0m \u001b[0mtrain_x_max\u001b[0m\u001b[0;34m)\u001b[0m\u001b[0;34m\u001b[0m\u001b[0;34m\u001b[0m\u001b[0m\n\u001b[0;32m---> 16\u001b[0;31m         \u001b[0my_tensor\u001b[0m \u001b[0;34m=\u001b[0m \u001b[0mpre_process_input\u001b[0m\u001b[0;34m(\u001b[0m\u001b[0my\u001b[0m\u001b[0;34m,\u001b[0m \u001b[0mtrain_y_max\u001b[0m\u001b[0;34m)\u001b[0m\u001b[0;34m\u001b[0m\u001b[0;34m\u001b[0m\u001b[0m\n\u001b[0m\u001b[1;32m     17\u001b[0m         \u001b[0;31m# Get a prediction!\u001b[0m\u001b[0;34m\u001b[0m\u001b[0;34m\u001b[0m\u001b[0;34m\u001b[0m\u001b[0m\n\u001b[1;32m     18\u001b[0m         \u001b[0mprediction\u001b[0m \u001b[0;34m=\u001b[0m \u001b[0mmodel\u001b[0m\u001b[0;34m(\u001b[0m\u001b[0mx_tensor\u001b[0m\u001b[0;34m)\u001b[0m\u001b[0;34m\u001b[0m\u001b[0;34m\u001b[0m\u001b[0m\n",
      "\u001b[0;32m<ipython-input-4-cef4fcac5b6d>\u001b[0m in \u001b[0;36mpre_process_input\u001b[0;34m(value, range_max)\u001b[0m\n\u001b[1;32m     11\u001b[0m     \u001b[0;31m# put the value into a -1:1 range which is a nice input\u001b[0m\u001b[0;34m\u001b[0m\u001b[0;34m\u001b[0m\u001b[0;34m\u001b[0m\u001b[0m\n\u001b[1;32m     12\u001b[0m     \u001b[0;31m# for our neural net.\u001b[0m\u001b[0;34m\u001b[0m\u001b[0;34m\u001b[0m\u001b[0;34m\u001b[0m\u001b[0m\n\u001b[0;32m---> 13\u001b[0;31m     \u001b[0mtensor\u001b[0m \u001b[0;34m=\u001b[0m \u001b[0;34m(\u001b[0m\u001b[0;34m(\u001b[0m\u001b[0mtensor\u001b[0m \u001b[0;34m/\u001b[0m \u001b[0mrange_max\u001b[0m\u001b[0;34m)\u001b[0m \u001b[0;34m-\u001b[0m \u001b[0;36m0.5\u001b[0m\u001b[0;34m)\u001b[0m \u001b[0;34m/\u001b[0m \u001b[0;36m0.5\u001b[0m\u001b[0;34m\u001b[0m\u001b[0;34m\u001b[0m\u001b[0m\n\u001b[0m\u001b[1;32m     14\u001b[0m     \u001b[0;31m# When training neural networks, it is very common\u001b[0m\u001b[0;34m\u001b[0m\u001b[0;34m\u001b[0m\u001b[0;34m\u001b[0m\u001b[0m\n\u001b[1;32m     15\u001b[0m     \u001b[0;31m# to run multiple training examples through the network\u001b[0m\u001b[0;34m\u001b[0m\u001b[0;34m\u001b[0m\u001b[0;34m\u001b[0m\u001b[0m\n",
      "\u001b[0;31mKeyboardInterrupt\u001b[0m: "
     ]
    },
    {
     "data": {
      "image/png": "[encoded data removed]",
      "text/plain": [
       "<Figure size 1080x720 with 1 Axes>"
      ]
     },
     "metadata": {
      "needs_background": "light"
     },
     "output_type": "display_data"
    }
   ],
   "source": [
    "# Set up our graph\n",
    "fig = plt.figure()\n",
    "ax = plt.axes()\n",
    "\n",
    "for epoch in range(200):\n",
    "    \n",
    "    # This is our actual training loop. We will take our training sample,\n",
    "    # do some normalization on it, then pass it through the model to get a\n",
    "    # prediction. Once we have a prediction, we compare it to the actual value\n",
    "    # in the dataset to find out how far off our model was. That value is the loss.\n",
    "    # we will call backward() on that loss tensor, which performs back propagation.\n",
    "    # Once we call backward, we can tell our optimizer to update the weights.\n",
    "    for i, (x, y) in enumerate(zip(train_x, train_y)):\n",
    "        # Prepare our training sample\n",
    "        x_tensor = pre_process_input(x, train_x_max)\n",
    "        y_tensor = pre_process_input(y, train_y_max)\n",
    "        # Get a prediction!\n",
    "        prediction = model(x_tensor)\n",
    "        # Find out how wrong was our not-so-smart neural network was.\n",
    "        loss = torch.nn.functional.mse_loss(prediction, y_tensor)\n",
    "        # This is a little trick that is not really advised for real world use.\n",
    "        # Since we only have a few datapoints representing the 1 and 2 quality\n",
    "        # ratings, we are going to manually scale the loss if we come across those\n",
    "        # samples. We do this to correct the imbalance. By scaling the loss, we \n",
    "        # can force these underrepresented samples to be more significant.\n",
    "        if x == 1.0 or x == 2.0:\n",
    "            loss = loss * 20.0\n",
    "\n",
    "        optimizer.zero_grad()  # Clear out the gradients from the last training step\n",
    "        loss.backward()  # Get some fresh gradients from our new loss\n",
    "        optimizer.step()  # Update the weights of the network\n",
    "        \n",
    "        if i % 100 == 0:\n",
    "            # Plot the model's predictions. We are just going to generate a \n",
    "            # spread of house condition values, ranging from 1-10 and predict a\n",
    "            # price for each one. The idea here is to plot a line across the data\n",
    "            # that properly fits throught the center of each grouping of values.\n",
    "            # as the model trains, the line should begin to fit tighter and tighter\n",
    "            # to the training data.\n",
    "            predicted_data = []\n",
    "            # Get a bunch of predictions\n",
    "            for x in range(1, 101):\n",
    "                # Scale the inputs from 1 to 100 down to 1-10, with\n",
    "                # 100 increments in the range. This helps us draw a smooth\n",
    "                # line representing the network's learned function.\n",
    "                x /= 10\n",
    "                # Prepare our data for input to the network\n",
    "                x_tensor = pre_process_input(x, train_x_max)\n",
    "                # Forward pass through the model\n",
    "                raw_prediction = model(x_tensor)\n",
    "                # Scale our output back into the range of the raw dataset\n",
    "                processed_prediction = post_process_prediction(raw_prediction, train_y_max)\n",
    "                predicted_data.append([x, processed_prediction])\n",
    "            predicted_data = np.array(predicted_data)\n",
    "            \n",
    "            # Plot our predictions\n",
    "            ax.cla()\n",
    "            ax.scatter(train_x, train_y)\n",
    "            ax.plot(predicted_data[:, 0], predicted_data[:, 1], color=\"green\")\n",
    "            display.display(fig)\n",
    "            display.clear_output(wait = True)\n",
    "            \n",
    "    # We will reduce the learning rate for the final 50 epochs to\n",
    "    # slow down the learning and let the model fine-tune a little\n",
    "    # more.\n",
    "    if epoch % 150 == 0:\n",
    "        for group in optimizer.param_groups:\n",
    "            group['lr'] = group['lr'] * 0.5"
   ]
  },
  {
   "cell_type": "code",
   "execution_count": null,
   "metadata": {},
   "outputs": [],
   "source": []
  },
  {
   "cell_type": "code",
   "execution_count": null,
   "metadata": {},
   "outputs": [],
   "source": []
  }
 ],
 "metadata": {
  "kernelspec": {
   "display_name": "Python 3",
   "language": "python",
   "name": "python3"
  },
  "language_info": {
   "codemirror_mode": {
    "name": "ipython",
    "version": 3
   },
   "file_extension": ".py",
   "mimetype": "text/x-python",
   "name": "python",
   "nbconvert_exporter": "python",
   "pygments_lexer": "ipython3",
   "version": "3.8.5"
  }
 },
 "nbformat": 4,
 "nbformat_minor": 4
}
